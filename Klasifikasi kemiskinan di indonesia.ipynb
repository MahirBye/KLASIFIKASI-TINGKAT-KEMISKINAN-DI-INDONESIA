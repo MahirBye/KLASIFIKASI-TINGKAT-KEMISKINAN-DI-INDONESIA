{
 "cells": [
  {
   "cell_type": "code",
   "execution_count": 1,
   "metadata": {},
   "outputs": [
    {
     "data": {
      "text/html": [
       "<div>\n",
       "<style scoped>\n",
       "    .dataframe tbody tr th:only-of-type {\n",
       "        vertical-align: middle;\n",
       "    }\n",
       "\n",
       "    .dataframe tbody tr th {\n",
       "        vertical-align: top;\n",
       "    }\n",
       "\n",
       "    .dataframe thead th {\n",
       "        text-align: right;\n",
       "    }\n",
       "</style>\n",
       "<table border=\"1\" class=\"dataframe\">\n",
       "  <thead>\n",
       "    <tr style=\"text-align: right;\">\n",
       "      <th></th>\n",
       "      <th>Provinsi</th>\n",
       "      <th>Kab/Kota</th>\n",
       "      <th>Persentase Penduduk Miskin (P0) Menurut Kabupaten/Kota (Persen)</th>\n",
       "      <th>Rata-rata Lama Sekolah Penduduk 15+ (Tahun)</th>\n",
       "      <th>Pengeluaran per Kapita Disesuaikan (Ribu Rupiah/Orang/Tahun)</th>\n",
       "      <th>Indeks Pembangunan Manusia</th>\n",
       "      <th>Umur Harapan Hidup (Tahun)</th>\n",
       "      <th>Persentase rumah tangga yang memiliki akses terhadap sanitasi layak</th>\n",
       "      <th>Persentase rumah tangga yang memiliki akses terhadap air minum layak</th>\n",
       "      <th>Tingkat Pengangguran Terbuka</th>\n",
       "      <th>Tingkat Partisipasi Angkatan Kerja</th>\n",
       "      <th>PDRB atas Dasar Harga Konstan menurut Pengeluaran (Rupiah)</th>\n",
       "      <th>Klasifikasi Kemiskinan</th>\n",
       "    </tr>\n",
       "  </thead>\n",
       "  <tbody>\n",
       "    <tr>\n",
       "      <th>0</th>\n",
       "      <td>ACEH</td>\n",
       "      <td>Simeulue</td>\n",
       "      <td>18.98</td>\n",
       "      <td>9.48</td>\n",
       "      <td>7148</td>\n",
       "      <td>66.41</td>\n",
       "      <td>65.28</td>\n",
       "      <td>71.56</td>\n",
       "      <td>87.45</td>\n",
       "      <td>5.71</td>\n",
       "      <td>71.15</td>\n",
       "      <td>1648096</td>\n",
       "      <td>0</td>\n",
       "    </tr>\n",
       "    <tr>\n",
       "      <th>1</th>\n",
       "      <td>ACEH</td>\n",
       "      <td>Aceh Singkil</td>\n",
       "      <td>20.36</td>\n",
       "      <td>8.68</td>\n",
       "      <td>8776</td>\n",
       "      <td>69.22</td>\n",
       "      <td>67.43</td>\n",
       "      <td>69.56</td>\n",
       "      <td>78.58</td>\n",
       "      <td>8.36</td>\n",
       "      <td>62.85</td>\n",
       "      <td>1780419</td>\n",
       "      <td>1</td>\n",
       "    </tr>\n",
       "    <tr>\n",
       "      <th>2</th>\n",
       "      <td>ACEH</td>\n",
       "      <td>Aceh Selatan</td>\n",
       "      <td>13.18</td>\n",
       "      <td>8.88</td>\n",
       "      <td>8180</td>\n",
       "      <td>67.44</td>\n",
       "      <td>64.40</td>\n",
       "      <td>62.55</td>\n",
       "      <td>79.65</td>\n",
       "      <td>6.46</td>\n",
       "      <td>60.85</td>\n",
       "      <td>4345784</td>\n",
       "      <td>0</td>\n",
       "    </tr>\n",
       "    <tr>\n",
       "      <th>3</th>\n",
       "      <td>ACEH</td>\n",
       "      <td>Aceh Tenggara</td>\n",
       "      <td>13.41</td>\n",
       "      <td>9.67</td>\n",
       "      <td>8030</td>\n",
       "      <td>69.44</td>\n",
       "      <td>68.22</td>\n",
       "      <td>62.71</td>\n",
       "      <td>86.71</td>\n",
       "      <td>6.43</td>\n",
       "      <td>69.62</td>\n",
       "      <td>3487157</td>\n",
       "      <td>0</td>\n",
       "    </tr>\n",
       "    <tr>\n",
       "      <th>4</th>\n",
       "      <td>ACEH</td>\n",
       "      <td>Aceh Timur</td>\n",
       "      <td>14.45</td>\n",
       "      <td>8.21</td>\n",
       "      <td>8577</td>\n",
       "      <td>67.83</td>\n",
       "      <td>68.74</td>\n",
       "      <td>66.75</td>\n",
       "      <td>83.16</td>\n",
       "      <td>7.13</td>\n",
       "      <td>59.48</td>\n",
       "      <td>8433526</td>\n",
       "      <td>0</td>\n",
       "    </tr>\n",
       "  </tbody>\n",
       "</table>\n",
       "</div>"
      ],
      "text/plain": [
       "  Provinsi       Kab/Kota  \\\n",
       "0     ACEH       Simeulue   \n",
       "1     ACEH   Aceh Singkil   \n",
       "2     ACEH   Aceh Selatan   \n",
       "3     ACEH  Aceh Tenggara   \n",
       "4     ACEH     Aceh Timur   \n",
       "\n",
       "   Persentase Penduduk Miskin (P0) Menurut Kabupaten/Kota (Persen)  \\\n",
       "0                                              18.98                 \n",
       "1                                              20.36                 \n",
       "2                                              13.18                 \n",
       "3                                              13.41                 \n",
       "4                                              14.45                 \n",
       "\n",
       "   Rata-rata Lama Sekolah Penduduk 15+ (Tahun)  \\\n",
       "0                                         9.48   \n",
       "1                                         8.68   \n",
       "2                                         8.88   \n",
       "3                                         9.67   \n",
       "4                                         8.21   \n",
       "\n",
       "   Pengeluaran per Kapita Disesuaikan (Ribu Rupiah/Orang/Tahun)  \\\n",
       "0                                               7148              \n",
       "1                                               8776              \n",
       "2                                               8180              \n",
       "3                                               8030              \n",
       "4                                               8577              \n",
       "\n",
       "   Indeks Pembangunan Manusia  Umur Harapan Hidup (Tahun)  \\\n",
       "0                       66.41                       65.28   \n",
       "1                       69.22                       67.43   \n",
       "2                       67.44                       64.40   \n",
       "3                       69.44                       68.22   \n",
       "4                       67.83                       68.74   \n",
       "\n",
       "   Persentase rumah tangga yang memiliki akses terhadap sanitasi layak  \\\n",
       "0                                              71.56                     \n",
       "1                                              69.56                     \n",
       "2                                              62.55                     \n",
       "3                                              62.71                     \n",
       "4                                              66.75                     \n",
       "\n",
       "   Persentase rumah tangga yang memiliki akses terhadap air minum layak  \\\n",
       "0                                              87.45                      \n",
       "1                                              78.58                      \n",
       "2                                              79.65                      \n",
       "3                                              86.71                      \n",
       "4                                              83.16                      \n",
       "\n",
       "   Tingkat Pengangguran Terbuka  Tingkat Partisipasi Angkatan Kerja  \\\n",
       "0                          5.71                               71.15   \n",
       "1                          8.36                               62.85   \n",
       "2                          6.46                               60.85   \n",
       "3                          6.43                               69.62   \n",
       "4                          7.13                               59.48   \n",
       "\n",
       "   PDRB atas Dasar Harga Konstan menurut Pengeluaran (Rupiah)  \\\n",
       "0                                            1648096            \n",
       "1                                            1780419            \n",
       "2                                            4345784            \n",
       "3                                            3487157            \n",
       "4                                            8433526            \n",
       "\n",
       "   Klasifikasi Kemiskinan  \n",
       "0                       0  \n",
       "1                       1  \n",
       "2                       0  \n",
       "3                       0  \n",
       "4                       0  "
      ]
     },
     "execution_count": 1,
     "metadata": {},
     "output_type": "execute_result"
    }
   ],
   "source": [
    "import pandas as pd\n",
    "\n",
    "dataset = pd.read_excel('D:/Documents/UNJEHH/SEMESTER 6/BOOTCAMP/DIBIMBING/Data/Klasifikasi Tingkat Kemiskinan di Indonesia.xlsx')\n",
    "dataset.head()"
   ]
  },
  {
   "cell_type": "code",
   "execution_count": 2,
   "metadata": {},
   "outputs": [
    {
     "name": "stdout",
     "output_type": "stream",
     "text": [
      "<class 'pandas.core.frame.DataFrame'>\n",
      "RangeIndex: 514 entries, 0 to 513\n",
      "Data columns (total 13 columns):\n",
      " #   Column                      Non-Null Count  Dtype  \n",
      "---  ------                      --------------  -----  \n",
      " 0   Provinsi                    514 non-null    object \n",
      " 1   Kab/Kota                    514 non-null    object \n",
      " 2   P0 Persen                   514 non-null    float64\n",
      " 3   Mean Lama Sekolah 15+       514 non-null    float64\n",
      " 4   Pengeluaran perKapita       514 non-null    int64  \n",
      " 5   IPM                         514 non-null    float64\n",
      " 6   Umur Harapan Hidup          514 non-null    float64\n",
      " 7   Akses Sanitasi Layak        514 non-null    float64\n",
      " 8   Akses Air Minum Layak       514 non-null    float64\n",
      " 9   Pengangguran Terbuka        514 non-null    float64\n",
      " 10  Partisipasi Angkatan Kerja  514 non-null    float64\n",
      " 11  PDRB Harga Konstan          514 non-null    int64  \n",
      " 12  Klasifikasi Kemiskinan      514 non-null    int64  \n",
      "dtypes: float64(8), int64(3), object(2)\n",
      "memory usage: 52.3+ KB\n"
     ]
    }
   ],
   "source": [
    "dataset = dataset.rename(columns={\n",
    "    'Persentase Penduduk Miskin (P0) Menurut Kabupaten/Kota (Persen)': 'P0 Persen',\n",
    "    'Rata-rata Lama Sekolah Penduduk 15+ (Tahun)': 'Mean Lama Sekolah 15+',\n",
    "    'Pengeluaran per Kapita Disesuaikan (Ribu Rupiah/Orang/Tahun)': 'Pengeluaran perKapita',\n",
    "    'Indeks Pembangunan Manusia': 'IPM',\n",
    "    'Umur Harapan Hidup (Tahun)': 'Umur Harapan Hidup',\n",
    "    'Persentase rumah tangga yang memiliki akses terhadap sanitasi layak': 'Akses Sanitasi Layak',\n",
    "    'Persentase rumah tangga yang memiliki akses terhadap air minum layak': 'Akses Air Minum Layak',\n",
    "    'Tingkat Pengangguran Terbuka': 'Pengangguran Terbuka',\n",
    "    'Tingkat Partisipasi Angkatan Kerja': 'Partisipasi Angkatan Kerja',\n",
    "    'PDRB atas Dasar Harga Konstan menurut Pengeluaran (Rupiah)': 'PDRB Harga Konstan',\n",
    "    'Klasifikasi Kemiskinan': 'Klasifikasi Kemiskinan'\n",
    "})\n",
    "\n",
    "dataset.info()"
   ]
  },
  {
   "cell_type": "code",
   "execution_count": 3,
   "metadata": {},
   "outputs": [
    {
     "data": {
      "text/plain": [
       "[]"
      ]
     },
     "execution_count": 3,
     "metadata": {},
     "output_type": "execute_result"
    }
   ],
   "source": [
    "object_columns = dataset.iloc[:, 2:].select_dtypes(include=['object']).columns.tolist()\n",
    "object_columns"
   ]
  },
  {
   "cell_type": "code",
   "execution_count": 4,
   "metadata": {},
   "outputs": [],
   "source": [
    "for column in object_columns:\n",
    "    dataset[column] = dataset[column].str.replace(',', '.').astype(float)"
   ]
  },
  {
   "cell_type": "code",
   "execution_count": 5,
   "metadata": {},
   "outputs": [
    {
     "name": "stdout",
     "output_type": "stream",
     "text": [
      "Provinsi                      0\n",
      "Kab/Kota                      0\n",
      "P0 Persen                     0\n",
      "Mean Lama Sekolah 15+         0\n",
      "Pengeluaran perKapita         0\n",
      "IPM                           0\n",
      "Umur Harapan Hidup            0\n",
      "Akses Sanitasi Layak          0\n",
      "Akses Air Minum Layak         0\n",
      "Pengangguran Terbuka          0\n",
      "Partisipasi Angkatan Kerja    0\n",
      "PDRB Harga Konstan            0\n",
      "Klasifikasi Kemiskinan        0\n",
      "dtype: int64\n",
      "<class 'pandas.core.frame.DataFrame'>\n",
      "RangeIndex: 514 entries, 0 to 513\n",
      "Data columns (total 10 columns):\n",
      " #   Column                      Non-Null Count  Dtype  \n",
      "---  ------                      --------------  -----  \n",
      " 0   P0 Persen                   514 non-null    float64\n",
      " 1   Mean Lama Sekolah 15+       514 non-null    float64\n",
      " 2   Pengeluaran perKapita       514 non-null    int64  \n",
      " 3   IPM                         514 non-null    float64\n",
      " 4   Umur Harapan Hidup          514 non-null    float64\n",
      " 5   Akses Sanitasi Layak        514 non-null    float64\n",
      " 6   Akses Air Minum Layak       514 non-null    float64\n",
      " 7   Pengangguran Terbuka        514 non-null    float64\n",
      " 8   Partisipasi Angkatan Kerja  514 non-null    float64\n",
      " 9   PDRB Harga Konstan          514 non-null    int64  \n",
      "dtypes: float64(8), int64(2)\n",
      "memory usage: 40.3 KB\n"
     ]
    },
    {
     "data": {
      "text/plain": [
       "(None,\n",
       " Klasifikasi Kemiskinan\n",
       " 0    452\n",
       " 1     62\n",
       " Name: count, dtype: int64)"
      ]
     },
     "execution_count": 5,
     "metadata": {},
     "output_type": "execute_result"
    }
   ],
   "source": [
    "# Memastikan tidak ada nilai kosong (missing values)\n",
    "missing_counts = dataset.isna().sum()\n",
    "\n",
    "# Load dataset\n",
    "X = dataset.drop(columns = ['Provinsi', 'Kab/Kota', 'Klasifikasi Kemiskinan'])\n",
    "y = dataset['Klasifikasi Kemiskinan']\n",
    "\n",
    "# Menampilkan informasi data setelah pra-pemrosesan\n",
    "print(missing_counts)\n",
    "X.info(), y.value_counts()"
   ]
  },
  {
   "cell_type": "code",
   "execution_count": 6,
   "metadata": {},
   "outputs": [
    {
     "name": "stdout",
     "output_type": "stream",
     "text": [
      "Classification Report:\n",
      "               precision    recall  f1-score   support\n",
      "\n",
      "           0       1.00      0.99      0.99        87\n",
      "           1       0.94      1.00      0.97        16\n",
      "\n",
      "    accuracy                           0.99       103\n",
      "   macro avg       0.97      0.99      0.98       103\n",
      "weighted avg       0.99      0.99      0.99       103\n",
      "\n",
      "Random Forest Accuracy: 99.03%\n"
     ]
    }
   ],
   "source": [
    "from sklearn.model_selection import train_test_split\n",
    "from sklearn.ensemble import RandomForestClassifier\n",
    "from sklearn.metrics import accuracy_score, classification_report, confusion_matrix\n",
    "\n",
    "\n",
    "# Membagi data menjadi data latih dan data uji (80% latih, 20% uji)\n",
    "X_train, X_test, y_train, y_test = train_test_split(X, y, test_size=0.2, random_state=42)\n",
    "\n",
    "# Melatih model Random Forest\n",
    "rf_model = RandomForestClassifier(n_estimators=100, random_state=42)\n",
    "rf_model.fit(X_train, y_train)\n",
    "\n",
    "# Memprediksi pada data uji\n",
    "y_pred = rf_model.predict(X_test)\n",
    "\n",
    "# Evaluasi model\n",
    "report = classification_report(y_test, y_pred)\n",
    "accuracy = accuracy_score(y_test, y_pred)\n",
    "conf_matrix = confusion_matrix(y_test, y_pred)\n",
    "\n",
    "print(\"Classification Report:\\n\", report)\n",
    "print(f\"Random Forest Accuracy: {accuracy*100:.2f}%\")\n",
    "\n"
   ]
  },
  {
   "cell_type": "code",
   "execution_count": 7,
   "metadata": {},
   "outputs": [
    {
     "name": "stderr",
     "output_type": "stream",
     "text": [
      "C:\\Users\\mochh\\AppData\\Local\\Temp\\ipykernel_12648\\1092128986.py:9: FutureWarning: \n",
      "\n",
      "Passing `palette` without assigning `hue` is deprecated and will be removed in v0.14.0. Assign the `y` variable to `hue` and set `legend=False` for the same effect.\n",
      "\n",
      "  sns.barplot(x=feature_importances, y=features, palette=\"viridis\")\n"
     ]
    },
    {
     "data": {
      "image/png": "[encoded data removed]",
      "text/plain": [
       "<Figure size 1000x600 with 1 Axes>"
      ]
     },
     "metadata": {},
     "output_type": "display_data"
    },
    {
     "data": {
      "image/png": "[encoded data removed]",
      "text/plain": [
       "<Figure size 600x500 with 2 Axes>"
      ]
     },
     "metadata": {},
     "output_type": "display_data"
    }
   ],
   "source": [
    "import matplotlib.pyplot as plt\n",
    "import seaborn as sns\n",
    "\n",
    "# Visualisasi pentingnya fitur\n",
    "feature_importances = rf_model.feature_importances_\n",
    "features = X.columns\n",
    "\n",
    "plt.figure(figsize=(10, 6))\n",
    "sns.barplot(x=feature_importances, y=features, palette=\"viridis\")\n",
    "plt.title(\"Pentingnya Fitur dalam Model Random Forest\", fontsize=14)\n",
    "plt.xlabel(\"Tingkat Kepentingan\", fontsize=12)\n",
    "plt.ylabel(\"Fitur\", fontsize=12)\n",
    "plt.tight_layout()\n",
    "plt.show()\n",
    "\n",
    "# Visualisasi confusion matrix\n",
    "plt.figure(figsize=(6, 5))\n",
    "sns.heatmap(conf_matrix, annot=True, fmt='d', cmap=\"YlGnBu\", xticklabels=[\"Kelas 0\", \"Kelas 1\"], yticklabels=[\"Kelas 0\", \"Kelas 1\"])\n",
    "plt.title(\"Confusion Matrix\", fontsize=14)\n",
    "plt.xlabel(\"Prediksi\", fontsize=12)\n",
    "plt.ylabel(\"Aktual\", fontsize=12)\n",
    "plt.tight_layout()\n",
    "plt.show()\n"
   ]
  }
 ],
 "metadata": {
  "kernelspec": {
   "display_name": "Python 3",
   "language": "python",
   "name": "python3"
  },
  "language_info": {
   "codemirror_mode": {
    "name": "ipython",
    "version": 3
   },
   "file_extension": ".py",
   "mimetype": "text/x-python",
   "name": "python",
   "nbconvert_exporter": "python",
   "pygments_lexer": "ipython3",
   "version": "3.11.4"
  }
 },
 "nbformat": 4,
 "nbformat_minor": 2
}
